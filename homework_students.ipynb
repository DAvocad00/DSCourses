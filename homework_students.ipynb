{
 "cells": [
  {
   "attachments": {},
   "cell_type": "markdown",
   "metadata": {
    "collapsed": false
   },
   "source": [
    "## Практическое домашнее задание на проверку знаний по модулю 1.\n",
    "\n",
    "\n",
    "##### Тема тестирования - базовый эксплоративный анализ и аналитическое мышление. Вам будет предоставлен датасет и 25 вопросов касаемо данного датасета. Ваша задача - подумать как найти ответы на поставленные вопросы ниже. За каждый правильно оформленный и предоставленный ответ начисляется *4 балла*.\n",
    "\n",
    "#### Ответ на решение присылать ссылкой на ваш гитхаб репозиторий на почту maratmovlamov2017@gmail.com\n",
    "\n",
    "#### Сроки выполнения практического домашнего задания - ровно 7 календарных дней (168 часов) с момента публикации в группе. Прошу приступать к решению задач порционно. Прошу повторить дополнительные материалы, предоставленные в качестве самостоятельного изучения в конце презентаций, они вам понадобятся.\n",
    "\n",
    "\n",
    "\n",
    "#### Критерии оценки присланного решения:\n",
    "\n",
    "* Правильность полученного ответа - на каждый поставленный вопрос есть один и только один правильный ответ. В случае неправильного ответа на поставленный вопрос, предоставленный ответ на него считается проваленным, даже если код написан правильно и красиво. Общее количество баллов, которые можно получить ответив на все вопросы верно - 25 * 4 = 100 баллов, которые шкалируются к 10-ти бальной шкале.\n",
    "\n",
    "___\n",
    "\n",
    "* Аккуратность, правильность и читаемость кода - старайтесь писать код без повторного использования методов и ненужных переменных (помните про принцип DRY - don't repeat yourself). Плюсом будет, если ваш код будет упакован в лаконичную и красиво написанную функцию. Если вся работа выполненна аккуратно, без спагетти кода, к общему результату работы начисляется 1 балл.\n",
    "\n",
    "---\n",
    "\n",
    "* На предоставленные вопросы, дописывается комментарий для проверки вашего мышления и поиска ответа в виде Markdown комментария. В случае если комментарий на поставленный вопрос не предоставлен снимается 0.1 балл за каждый такой вопрос. То есть общий штраф за отсутсвие комментариев по всем вопросам 25 * -0.1 =  -2.5 балла.\n",
    "\n",
    "\n",
    "#### Удачи и да прибудет с Вами сила :)\n",
    "\n"
   ]
  },
  {
   "cell_type": "code",
   "execution_count": 1,
   "metadata": {
    "ExecuteTime": {
     "end_time": "2023-05-22T09:51:30.639118200Z",
     "start_time": "2023-05-22T09:51:30.360510500Z"
    },
    "collapsed": false
   },
   "outputs": [],
   "source": [
    "import pandas as pd\n",
    "import numpy as np"
   ]
  },
  {
   "cell_type": "code",
   "execution_count": 2,
   "metadata": {
    "ExecuteTime": {
     "end_time": "2023-05-22T09:51:31.599273500Z",
     "start_time": "2023-05-22T09:51:31.113968400Z"
    },
    "collapsed": false
   },
   "outputs": [],
   "source": [
    "df = pd.read_csv(\"./dataset/Spotify_Youtube.csv\")"
   ]
  },
  {
   "cell_type": "code",
   "execution_count": 3,
   "metadata": {
    "ExecuteTime": {
     "end_time": "2023-05-22T09:51:32.243645600Z",
     "start_time": "2023-05-22T09:51:32.227638100Z"
    },
    "collapsed": false
   },
   "outputs": [
    {
     "data": {
      "text/html": [
       "<div>\n",
       "<style scoped>\n",
       "    .dataframe tbody tr th:only-of-type {\n",
       "        vertical-align: middle;\n",
       "    }\n",
       "\n",
       "    .dataframe tbody tr th {\n",
       "        vertical-align: top;\n",
       "    }\n",
       "\n",
       "    .dataframe thead th {\n",
       "        text-align: right;\n",
       "    }\n",
       "</style>\n",
       "<table border=\"1\" class=\"dataframe\">\n",
       "  <thead>\n",
       "    <tr style=\"text-align: right;\">\n",
       "      <th></th>\n",
       "      <th>Unnamed: 0</th>\n",
       "      <th>Artist</th>\n",
       "      <th>Url_spotify</th>\n",
       "      <th>Track</th>\n",
       "      <th>Album</th>\n",
       "      <th>Album_type</th>\n",
       "      <th>Uri</th>\n",
       "      <th>Danceability</th>\n",
       "      <th>Energy</th>\n",
       "      <th>Key</th>\n",
       "      <th>...</th>\n",
       "      <th>Url_youtube</th>\n",
       "      <th>Title</th>\n",
       "      <th>Channel</th>\n",
       "      <th>Views</th>\n",
       "      <th>Likes</th>\n",
       "      <th>Comments</th>\n",
       "      <th>Description</th>\n",
       "      <th>Licensed</th>\n",
       "      <th>official_video</th>\n",
       "      <th>Stream</th>\n",
       "    </tr>\n",
       "  </thead>\n",
       "  <tbody>\n",
       "    <tr>\n",
       "      <th>0</th>\n",
       "      <td>0</td>\n",
       "      <td>Gorillaz</td>\n",
       "      <td>https://open.spotify.com/artist/3AA28KZvwAUcZu...</td>\n",
       "      <td>Feel Good Inc.</td>\n",
       "      <td>Demon Days</td>\n",
       "      <td>album</td>\n",
       "      <td>spotify:track:0d28khcov6AiegSCpG5TuT</td>\n",
       "      <td>0.818</td>\n",
       "      <td>0.705</td>\n",
       "      <td>6.0</td>\n",
       "      <td>...</td>\n",
       "      <td>https://www.youtube.com/watch?v=HyHNuVaZJ-k</td>\n",
       "      <td>Gorillaz - Feel Good Inc. (Official Video)</td>\n",
       "      <td>Gorillaz</td>\n",
       "      <td>693555221.0</td>\n",
       "      <td>6220896.0</td>\n",
       "      <td>169907.0</td>\n",
       "      <td>Official HD Video for Gorillaz' fantastic trac...</td>\n",
       "      <td>True</td>\n",
       "      <td>True</td>\n",
       "      <td>1.040235e+09</td>\n",
       "    </tr>\n",
       "    <tr>\n",
       "      <th>1</th>\n",
       "      <td>1</td>\n",
       "      <td>Gorillaz</td>\n",
       "      <td>https://open.spotify.com/artist/3AA28KZvwAUcZu...</td>\n",
       "      <td>Rhinestone Eyes</td>\n",
       "      <td>Plastic Beach</td>\n",
       "      <td>album</td>\n",
       "      <td>spotify:track:1foMv2HQwfQ2vntFf9HFeG</td>\n",
       "      <td>0.676</td>\n",
       "      <td>0.703</td>\n",
       "      <td>8.0</td>\n",
       "      <td>...</td>\n",
       "      <td>https://www.youtube.com/watch?v=yYDmaexVHic</td>\n",
       "      <td>Gorillaz - Rhinestone Eyes [Storyboard Film] (...</td>\n",
       "      <td>Gorillaz</td>\n",
       "      <td>72011645.0</td>\n",
       "      <td>1079128.0</td>\n",
       "      <td>31003.0</td>\n",
       "      <td>The official video for Gorillaz - Rhinestone E...</td>\n",
       "      <td>True</td>\n",
       "      <td>True</td>\n",
       "      <td>3.100837e+08</td>\n",
       "    </tr>\n",
       "    <tr>\n",
       "      <th>2</th>\n",
       "      <td>2</td>\n",
       "      <td>Gorillaz</td>\n",
       "      <td>https://open.spotify.com/artist/3AA28KZvwAUcZu...</td>\n",
       "      <td>New Gold (feat. Tame Impala and Bootie Brown)</td>\n",
       "      <td>New Gold (feat. Tame Impala and Bootie Brown)</td>\n",
       "      <td>single</td>\n",
       "      <td>spotify:track:64dLd6rVqDLtkXFYrEUHIU</td>\n",
       "      <td>0.695</td>\n",
       "      <td>0.923</td>\n",
       "      <td>1.0</td>\n",
       "      <td>...</td>\n",
       "      <td>https://www.youtube.com/watch?v=qJa-VFwPpYA</td>\n",
       "      <td>Gorillaz - New Gold ft. Tame Impala &amp; Bootie B...</td>\n",
       "      <td>Gorillaz</td>\n",
       "      <td>8435055.0</td>\n",
       "      <td>282142.0</td>\n",
       "      <td>7399.0</td>\n",
       "      <td>Gorillaz - New Gold ft. Tame Impala &amp; Bootie B...</td>\n",
       "      <td>True</td>\n",
       "      <td>True</td>\n",
       "      <td>6.306347e+07</td>\n",
       "    </tr>\n",
       "    <tr>\n",
       "      <th>3</th>\n",
       "      <td>3</td>\n",
       "      <td>Gorillaz</td>\n",
       "      <td>https://open.spotify.com/artist/3AA28KZvwAUcZu...</td>\n",
       "      <td>On Melancholy Hill</td>\n",
       "      <td>Plastic Beach</td>\n",
       "      <td>album</td>\n",
       "      <td>spotify:track:0q6LuUqGLUiCPP1cbdwFs3</td>\n",
       "      <td>0.689</td>\n",
       "      <td>0.739</td>\n",
       "      <td>2.0</td>\n",
       "      <td>...</td>\n",
       "      <td>https://www.youtube.com/watch?v=04mfKJWDSzI</td>\n",
       "      <td>Gorillaz - On Melancholy Hill (Official Video)</td>\n",
       "      <td>Gorillaz</td>\n",
       "      <td>211754952.0</td>\n",
       "      <td>1788577.0</td>\n",
       "      <td>55229.0</td>\n",
       "      <td>Follow Gorillaz online:\\nhttp://gorillaz.com \\...</td>\n",
       "      <td>True</td>\n",
       "      <td>True</td>\n",
       "      <td>4.346636e+08</td>\n",
       "    </tr>\n",
       "    <tr>\n",
       "      <th>4</th>\n",
       "      <td>4</td>\n",
       "      <td>Gorillaz</td>\n",
       "      <td>https://open.spotify.com/artist/3AA28KZvwAUcZu...</td>\n",
       "      <td>Clint Eastwood</td>\n",
       "      <td>Gorillaz</td>\n",
       "      <td>album</td>\n",
       "      <td>spotify:track:7yMiX7n9SBvadzox8T5jzT</td>\n",
       "      <td>0.663</td>\n",
       "      <td>0.694</td>\n",
       "      <td>10.0</td>\n",
       "      <td>...</td>\n",
       "      <td>https://www.youtube.com/watch?v=1V_xRb0x9aw</td>\n",
       "      <td>Gorillaz - Clint Eastwood (Official Video)</td>\n",
       "      <td>Gorillaz</td>\n",
       "      <td>618480958.0</td>\n",
       "      <td>6197318.0</td>\n",
       "      <td>155930.0</td>\n",
       "      <td>The official music video for Gorillaz - Clint ...</td>\n",
       "      <td>True</td>\n",
       "      <td>True</td>\n",
       "      <td>6.172597e+08</td>\n",
       "    </tr>\n",
       "  </tbody>\n",
       "</table>\n",
       "<p>5 rows × 28 columns</p>\n",
       "</div>"
      ],
      "text/plain": [
       "   Unnamed: 0    Artist                                        Url_spotify   \n",
       "0           0  Gorillaz  https://open.spotify.com/artist/3AA28KZvwAUcZu...  \\\n",
       "1           1  Gorillaz  https://open.spotify.com/artist/3AA28KZvwAUcZu...   \n",
       "2           2  Gorillaz  https://open.spotify.com/artist/3AA28KZvwAUcZu...   \n",
       "3           3  Gorillaz  https://open.spotify.com/artist/3AA28KZvwAUcZu...   \n",
       "4           4  Gorillaz  https://open.spotify.com/artist/3AA28KZvwAUcZu...   \n",
       "\n",
       "                                           Track   \n",
       "0                                 Feel Good Inc.  \\\n",
       "1                                Rhinestone Eyes   \n",
       "2  New Gold (feat. Tame Impala and Bootie Brown)   \n",
       "3                             On Melancholy Hill   \n",
       "4                                 Clint Eastwood   \n",
       "\n",
       "                                           Album Album_type   \n",
       "0                                     Demon Days      album  \\\n",
       "1                                  Plastic Beach      album   \n",
       "2  New Gold (feat. Tame Impala and Bootie Brown)     single   \n",
       "3                                  Plastic Beach      album   \n",
       "4                                       Gorillaz      album   \n",
       "\n",
       "                                    Uri  Danceability  Energy   Key  ...   \n",
       "0  spotify:track:0d28khcov6AiegSCpG5TuT         0.818   0.705   6.0  ...  \\\n",
       "1  spotify:track:1foMv2HQwfQ2vntFf9HFeG         0.676   0.703   8.0  ...   \n",
       "2  spotify:track:64dLd6rVqDLtkXFYrEUHIU         0.695   0.923   1.0  ...   \n",
       "3  spotify:track:0q6LuUqGLUiCPP1cbdwFs3         0.689   0.739   2.0  ...   \n",
       "4  spotify:track:7yMiX7n9SBvadzox8T5jzT         0.663   0.694  10.0  ...   \n",
       "\n",
       "                                   Url_youtube   \n",
       "0  https://www.youtube.com/watch?v=HyHNuVaZJ-k  \\\n",
       "1  https://www.youtube.com/watch?v=yYDmaexVHic   \n",
       "2  https://www.youtube.com/watch?v=qJa-VFwPpYA   \n",
       "3  https://www.youtube.com/watch?v=04mfKJWDSzI   \n",
       "4  https://www.youtube.com/watch?v=1V_xRb0x9aw   \n",
       "\n",
       "                                               Title   Channel        Views   \n",
       "0         Gorillaz - Feel Good Inc. (Official Video)  Gorillaz  693555221.0  \\\n",
       "1  Gorillaz - Rhinestone Eyes [Storyboard Film] (...  Gorillaz   72011645.0   \n",
       "2  Gorillaz - New Gold ft. Tame Impala & Bootie B...  Gorillaz    8435055.0   \n",
       "3     Gorillaz - On Melancholy Hill (Official Video)  Gorillaz  211754952.0   \n",
       "4         Gorillaz - Clint Eastwood (Official Video)  Gorillaz  618480958.0   \n",
       "\n",
       "       Likes  Comments                                        Description   \n",
       "0  6220896.0  169907.0  Official HD Video for Gorillaz' fantastic trac...  \\\n",
       "1  1079128.0   31003.0  The official video for Gorillaz - Rhinestone E...   \n",
       "2   282142.0    7399.0  Gorillaz - New Gold ft. Tame Impala & Bootie B...   \n",
       "3  1788577.0   55229.0  Follow Gorillaz online:\\nhttp://gorillaz.com \\...   \n",
       "4  6197318.0  155930.0  The official music video for Gorillaz - Clint ...   \n",
       "\n",
       "   Licensed official_video        Stream  \n",
       "0      True           True  1.040235e+09  \n",
       "1      True           True  3.100837e+08  \n",
       "2      True           True  6.306347e+07  \n",
       "3      True           True  4.346636e+08  \n",
       "4      True           True  6.172597e+08  \n",
       "\n",
       "[5 rows x 28 columns]"
      ]
     },
     "execution_count": 3,
     "metadata": {},
     "output_type": "execute_result"
    }
   ],
   "source": [
    "df.head()"
   ]
  },
  {
   "attachments": {},
   "cell_type": "markdown",
   "metadata": {
    "collapsed": false
   },
   "source": [
    "### Структура датасета:\n",
    "\n",
    "----\n",
    "\n",
    "26 признаков, описание которых следует ниже:\n",
    "\n",
    "\n",
    "\n",
    "- **Track**: name of the song, as visible on the Spotify platform.\n",
    "- **Artist**: name of the artist.\n",
    "- **Url_spotify**: the Url of the artist.\n",
    "- **Album**: the album in wich the song is contained on Spotify.\n",
    "- **Album_type**: indicates if the song is relesead on Spotify as a single or contained in an album.\n",
    "- **Uri**: a spotify link used to find the song through the API.\n",
    "- **Danceability**: describes how suitable a track is for dancing based on a combination of musical elements including tempo, rhythm stability, beat strength, and overall regularity. A value of 0.0 is least danceable and 1.0 is most danceable.\n",
    "- **Energy:** is a measure from 0.0 to 1.0 and represents a perceptual measure of intensity and activity. Typically, energetic tracks feel fast, loud, and noisy. For example, death metal has high energy, while a Bach prelude scores low on the scale. Perceptual features contributing to this attribute include dynamic range, perceived loudness, timbre, onset rate, and general entropy.\n",
    "- **Key**: the key the track is in. Integers map to pitches using standard Pitch Class notation. E.g. 0 = C, 1 = C♯/D♭, 2 = D, and so on. If no key was detected, the value is -1.\n",
    "- **Loudness**: the overall loudness of a track in decibels (dB). Loudness values are averaged across the entire track and are useful for comparing relative loudness of tracks. Loudness is the quality of a sound that is the primary psychological correlate of physical strength (amplitude). Values typically range between -60 and 0 db.\n",
    "- **Speechiness**: detects the presence of spoken words in a track. The more exclusively speech-like the recording (e.g. talk show, audio book, poetry), the closer to 1.0 the attribute value. Values above 0.66 describe tracks that are probably made entirely of spoken words. Values between 0.33 and 0.66 describe tracks that may contain both music and speech, either in sections or layered, including such cases as rap music. Values below 0.33 most likely represent music and other non-speech-like tracks.\n",
    "- **Acousticness**: a confidence measure from 0.0 to 1.0 of whether the track is acoustic. 1.0 represents high confidence the track is acoustic.\n",
    "- **Instrumentalness**: predicts whether a track contains no vocals. \"Ooh\" and \"aah\" sounds are treated as instrumental in this context. Rap or spoken word tracks are clearly \"vocal\". The closer the instrumentalness value is to 1.0, the greater likelihood the track contains no vocal content. Values above 0.5 are intended to represent instrumental tracks, but confidence is higher as the value approaches 1.0.\n",
    "- **Liveness**: detects the presence of an audience in the recording. Higher liveness values represent an increased probability that the track was performed live. A value above 0.8 provides strong likelihood that the track is live.\n",
    "- **Valence**: a measure from 0.0 to 1.0 describing the musical positiveness conveyed by a track. Tracks with high valence sound more positive (e.g. happy, cheerful, euphoric), while tracks with low valence sound more negative (e.g. sad, depressed, angry).\n",
    "- **Tempo**: the overall estimated tempo of a track in beats per minute (BPM). In musical terminology, tempo is the speed or pace of a given piece and derives directly from the average beat duration.\n",
    "- **Duration_ms**: the duration of the track in milliseconds.\n",
    "- **Stream**: number of streams of the song on Spotify.\n",
    "- **Url_youtube**: url of the video linked to the song on Youtube, if it have any.\n",
    "- **Title**: title of the videoclip on youtube.\n",
    "- **Channel**: name of the channel that have published the video.\n",
    "- **Views**: number of views.\n",
    "- **Likes**: number of likes.\n",
    "- **Comments**: number of comments.\n",
    "- **Description**: description of the video on Youtube.\n",
    "- **Licensed**: Indicates whether the video represents licensed content, which means that the content was uploaded to a channel linked to a YouTube content partner and then claimed by that partner. official_video: boolean value that indicates if the video found is the official video of the song."
   ]
  },
  {
   "cell_type": "code",
   "execution_count": 4,
   "metadata": {},
   "outputs": [
    {
     "name": "stdout",
     "output_type": "stream",
     "text": [
      "<class 'pandas.core.frame.DataFrame'>\n",
      "RangeIndex: 20718 entries, 0 to 20717\n",
      "Data columns (total 28 columns):\n",
      " #   Column            Non-Null Count  Dtype  \n",
      "---  ------            --------------  -----  \n",
      " 0   Unnamed: 0        20718 non-null  int64  \n",
      " 1   Artist            20718 non-null  object \n",
      " 2   Url_spotify       20718 non-null  object \n",
      " 3   Track             20718 non-null  object \n",
      " 4   Album             20718 non-null  object \n",
      " 5   Album_type        20718 non-null  object \n",
      " 6   Uri               20718 non-null  object \n",
      " 7   Danceability      20716 non-null  float64\n",
      " 8   Energy            20716 non-null  float64\n",
      " 9   Key               20716 non-null  float64\n",
      " 10  Loudness          20716 non-null  float64\n",
      " 11  Speechiness       20716 non-null  float64\n",
      " 12  Acousticness      20716 non-null  float64\n",
      " 13  Instrumentalness  20716 non-null  float64\n",
      " 14  Liveness          20716 non-null  float64\n",
      " 15  Valence           20716 non-null  float64\n",
      " 16  Tempo             20716 non-null  float64\n",
      " 17  Duration_ms       20716 non-null  float64\n",
      " 18  Url_youtube       20248 non-null  object \n",
      " 19  Title             20248 non-null  object \n",
      " 20  Channel           20248 non-null  object \n",
      " 21  Views             20248 non-null  float64\n",
      " 22  Likes             20177 non-null  float64\n",
      " 23  Comments          20149 non-null  float64\n",
      " 24  Description       19842 non-null  object \n",
      " 25  Licensed          20248 non-null  object \n",
      " 26  official_video    20248 non-null  object \n",
      " 27  Stream            20142 non-null  float64\n",
      "dtypes: float64(15), int64(1), object(12)\n",
      "memory usage: 4.4+ MB\n"
     ]
    }
   ],
   "source": [
    "df.info()"
   ]
  },
  {
   "cell_type": "code",
   "execution_count": 5,
   "metadata": {},
   "outputs": [
    {
     "data": {
      "text/html": [
       "<div>\n",
       "<style scoped>\n",
       "    .dataframe tbody tr th:only-of-type {\n",
       "        vertical-align: middle;\n",
       "    }\n",
       "\n",
       "    .dataframe tbody tr th {\n",
       "        vertical-align: top;\n",
       "    }\n",
       "\n",
       "    .dataframe thead th {\n",
       "        text-align: right;\n",
       "    }\n",
       "</style>\n",
       "<table border=\"1\" class=\"dataframe\">\n",
       "  <thead>\n",
       "    <tr style=\"text-align: right;\">\n",
       "      <th></th>\n",
       "      <th>count</th>\n",
       "      <th>mean</th>\n",
       "      <th>std</th>\n",
       "      <th>min</th>\n",
       "      <th>25%</th>\n",
       "      <th>50%</th>\n",
       "      <th>75%</th>\n",
       "      <th>max</th>\n",
       "    </tr>\n",
       "  </thead>\n",
       "  <tbody>\n",
       "    <tr>\n",
       "      <th>Unnamed: 0</th>\n",
       "      <td>20718.0</td>\n",
       "      <td>1.035850e+04</td>\n",
       "      <td>5.980916e+03</td>\n",
       "      <td>0.000000</td>\n",
       "      <td>5.179250e+03</td>\n",
       "      <td>1.035850e+04</td>\n",
       "      <td>1.553775e+04</td>\n",
       "      <td>2.071700e+04</td>\n",
       "    </tr>\n",
       "    <tr>\n",
       "      <th>Danceability</th>\n",
       "      <td>20716.0</td>\n",
       "      <td>6.197775e-01</td>\n",
       "      <td>1.652724e-01</td>\n",
       "      <td>0.000000</td>\n",
       "      <td>5.180000e-01</td>\n",
       "      <td>6.370000e-01</td>\n",
       "      <td>7.402500e-01</td>\n",
       "      <td>9.750000e-01</td>\n",
       "    </tr>\n",
       "    <tr>\n",
       "      <th>Energy</th>\n",
       "      <td>20716.0</td>\n",
       "      <td>6.352503e-01</td>\n",
       "      <td>2.141468e-01</td>\n",
       "      <td>0.000020</td>\n",
       "      <td>5.070000e-01</td>\n",
       "      <td>6.660000e-01</td>\n",
       "      <td>7.980000e-01</td>\n",
       "      <td>1.000000e+00</td>\n",
       "    </tr>\n",
       "    <tr>\n",
       "      <th>Key</th>\n",
       "      <td>20716.0</td>\n",
       "      <td>5.300348e+00</td>\n",
       "      <td>3.576449e+00</td>\n",
       "      <td>0.000000</td>\n",
       "      <td>2.000000e+00</td>\n",
       "      <td>5.000000e+00</td>\n",
       "      <td>8.000000e+00</td>\n",
       "      <td>1.100000e+01</td>\n",
       "    </tr>\n",
       "    <tr>\n",
       "      <th>Loudness</th>\n",
       "      <td>20716.0</td>\n",
       "      <td>-7.671680e+00</td>\n",
       "      <td>4.632749e+00</td>\n",
       "      <td>-46.251000</td>\n",
       "      <td>-8.858000e+00</td>\n",
       "      <td>-6.536000e+00</td>\n",
       "      <td>-4.931000e+00</td>\n",
       "      <td>9.200000e-01</td>\n",
       "    </tr>\n",
       "    <tr>\n",
       "      <th>Speechiness</th>\n",
       "      <td>20716.0</td>\n",
       "      <td>9.645601e-02</td>\n",
       "      <td>1.119600e-01</td>\n",
       "      <td>0.000000</td>\n",
       "      <td>3.570000e-02</td>\n",
       "      <td>5.050000e-02</td>\n",
       "      <td>1.030000e-01</td>\n",
       "      <td>9.640000e-01</td>\n",
       "    </tr>\n",
       "    <tr>\n",
       "      <th>Acousticness</th>\n",
       "      <td>20716.0</td>\n",
       "      <td>2.915353e-01</td>\n",
       "      <td>2.862988e-01</td>\n",
       "      <td>0.000001</td>\n",
       "      <td>4.520000e-02</td>\n",
       "      <td>1.930000e-01</td>\n",
       "      <td>4.772500e-01</td>\n",
       "      <td>9.960000e-01</td>\n",
       "    </tr>\n",
       "    <tr>\n",
       "      <th>Instrumentalness</th>\n",
       "      <td>20716.0</td>\n",
       "      <td>5.596156e-02</td>\n",
       "      <td>1.932620e-01</td>\n",
       "      <td>0.000000</td>\n",
       "      <td>0.000000e+00</td>\n",
       "      <td>2.405000e-06</td>\n",
       "      <td>4.630000e-04</td>\n",
       "      <td>1.000000e+00</td>\n",
       "    </tr>\n",
       "    <tr>\n",
       "      <th>Liveness</th>\n",
       "      <td>20716.0</td>\n",
       "      <td>1.935210e-01</td>\n",
       "      <td>1.685309e-01</td>\n",
       "      <td>0.014500</td>\n",
       "      <td>9.410000e-02</td>\n",
       "      <td>1.250000e-01</td>\n",
       "      <td>2.370000e-01</td>\n",
       "      <td>1.000000e+00</td>\n",
       "    </tr>\n",
       "    <tr>\n",
       "      <th>Valence</th>\n",
       "      <td>20716.0</td>\n",
       "      <td>5.298533e-01</td>\n",
       "      <td>2.454408e-01</td>\n",
       "      <td>0.000000</td>\n",
       "      <td>3.390000e-01</td>\n",
       "      <td>5.370000e-01</td>\n",
       "      <td>7.262500e-01</td>\n",
       "      <td>9.930000e-01</td>\n",
       "    </tr>\n",
       "    <tr>\n",
       "      <th>Tempo</th>\n",
       "      <td>20716.0</td>\n",
       "      <td>1.206383e+02</td>\n",
       "      <td>2.957902e+01</td>\n",
       "      <td>0.000000</td>\n",
       "      <td>9.700200e+01</td>\n",
       "      <td>1.199650e+02</td>\n",
       "      <td>1.399350e+02</td>\n",
       "      <td>2.433720e+02</td>\n",
       "    </tr>\n",
       "    <tr>\n",
       "      <th>Duration_ms</th>\n",
       "      <td>20716.0</td>\n",
       "      <td>2.247176e+05</td>\n",
       "      <td>1.247905e+05</td>\n",
       "      <td>30985.000000</td>\n",
       "      <td>1.800095e+05</td>\n",
       "      <td>2.132845e+05</td>\n",
       "      <td>2.524430e+05</td>\n",
       "      <td>4.676058e+06</td>\n",
       "    </tr>\n",
       "    <tr>\n",
       "      <th>Views</th>\n",
       "      <td>20248.0</td>\n",
       "      <td>9.393782e+07</td>\n",
       "      <td>2.746443e+08</td>\n",
       "      <td>0.000000</td>\n",
       "      <td>1.826002e+06</td>\n",
       "      <td>1.450110e+07</td>\n",
       "      <td>7.039975e+07</td>\n",
       "      <td>8.079649e+09</td>\n",
       "    </tr>\n",
       "    <tr>\n",
       "      <th>Likes</th>\n",
       "      <td>20177.0</td>\n",
       "      <td>6.633411e+05</td>\n",
       "      <td>1.789324e+06</td>\n",
       "      <td>0.000000</td>\n",
       "      <td>2.158100e+04</td>\n",
       "      <td>1.244810e+05</td>\n",
       "      <td>5.221480e+05</td>\n",
       "      <td>5.078865e+07</td>\n",
       "    </tr>\n",
       "    <tr>\n",
       "      <th>Comments</th>\n",
       "      <td>20149.0</td>\n",
       "      <td>2.751899e+04</td>\n",
       "      <td>1.932347e+05</td>\n",
       "      <td>0.000000</td>\n",
       "      <td>5.090000e+02</td>\n",
       "      <td>3.277000e+03</td>\n",
       "      <td>1.436000e+04</td>\n",
       "      <td>1.608314e+07</td>\n",
       "    </tr>\n",
       "    <tr>\n",
       "      <th>Stream</th>\n",
       "      <td>20142.0</td>\n",
       "      <td>1.359422e+08</td>\n",
       "      <td>2.441321e+08</td>\n",
       "      <td>6574.000000</td>\n",
       "      <td>1.767486e+07</td>\n",
       "      <td>4.968298e+07</td>\n",
       "      <td>1.383581e+08</td>\n",
       "      <td>3.386520e+09</td>\n",
       "    </tr>\n",
       "  </tbody>\n",
       "</table>\n",
       "</div>"
      ],
      "text/plain": [
       "                    count          mean           std           min   \n",
       "Unnamed: 0        20718.0  1.035850e+04  5.980916e+03      0.000000  \\\n",
       "Danceability      20716.0  6.197775e-01  1.652724e-01      0.000000   \n",
       "Energy            20716.0  6.352503e-01  2.141468e-01      0.000020   \n",
       "Key               20716.0  5.300348e+00  3.576449e+00      0.000000   \n",
       "Loudness          20716.0 -7.671680e+00  4.632749e+00    -46.251000   \n",
       "Speechiness       20716.0  9.645601e-02  1.119600e-01      0.000000   \n",
       "Acousticness      20716.0  2.915353e-01  2.862988e-01      0.000001   \n",
       "Instrumentalness  20716.0  5.596156e-02  1.932620e-01      0.000000   \n",
       "Liveness          20716.0  1.935210e-01  1.685309e-01      0.014500   \n",
       "Valence           20716.0  5.298533e-01  2.454408e-01      0.000000   \n",
       "Tempo             20716.0  1.206383e+02  2.957902e+01      0.000000   \n",
       "Duration_ms       20716.0  2.247176e+05  1.247905e+05  30985.000000   \n",
       "Views             20248.0  9.393782e+07  2.746443e+08      0.000000   \n",
       "Likes             20177.0  6.633411e+05  1.789324e+06      0.000000   \n",
       "Comments          20149.0  2.751899e+04  1.932347e+05      0.000000   \n",
       "Stream            20142.0  1.359422e+08  2.441321e+08   6574.000000   \n",
       "\n",
       "                           25%           50%           75%           max  \n",
       "Unnamed: 0        5.179250e+03  1.035850e+04  1.553775e+04  2.071700e+04  \n",
       "Danceability      5.180000e-01  6.370000e-01  7.402500e-01  9.750000e-01  \n",
       "Energy            5.070000e-01  6.660000e-01  7.980000e-01  1.000000e+00  \n",
       "Key               2.000000e+00  5.000000e+00  8.000000e+00  1.100000e+01  \n",
       "Loudness         -8.858000e+00 -6.536000e+00 -4.931000e+00  9.200000e-01  \n",
       "Speechiness       3.570000e-02  5.050000e-02  1.030000e-01  9.640000e-01  \n",
       "Acousticness      4.520000e-02  1.930000e-01  4.772500e-01  9.960000e-01  \n",
       "Instrumentalness  0.000000e+00  2.405000e-06  4.630000e-04  1.000000e+00  \n",
       "Liveness          9.410000e-02  1.250000e-01  2.370000e-01  1.000000e+00  \n",
       "Valence           3.390000e-01  5.370000e-01  7.262500e-01  9.930000e-01  \n",
       "Tempo             9.700200e+01  1.199650e+02  1.399350e+02  2.433720e+02  \n",
       "Duration_ms       1.800095e+05  2.132845e+05  2.524430e+05  4.676058e+06  \n",
       "Views             1.826002e+06  1.450110e+07  7.039975e+07  8.079649e+09  \n",
       "Likes             2.158100e+04  1.244810e+05  5.221480e+05  5.078865e+07  \n",
       "Comments          5.090000e+02  3.277000e+03  1.436000e+04  1.608314e+07  \n",
       "Stream            1.767486e+07  4.968298e+07  1.383581e+08  3.386520e+09  "
      ]
     },
     "execution_count": 5,
     "metadata": {},
     "output_type": "execute_result"
    }
   ],
   "source": [
    "df.describe().T"
   ]
  },
  {
   "cell_type": "code",
   "execution_count": 6,
   "metadata": {},
   "outputs": [
    {
     "data": {
      "text/plain": [
       "Index(['Unnamed: 0', 'Artist', 'Url_spotify', 'Track', 'Album', 'Album_type',\n",
       "       'Uri', 'Danceability', 'Energy', 'Key', 'Loudness', 'Speechiness',\n",
       "       'Acousticness', 'Instrumentalness', 'Liveness', 'Valence', 'Tempo',\n",
       "       'Duration_ms', 'Url_youtube', 'Title', 'Channel', 'Views', 'Likes',\n",
       "       'Comments', 'Description', 'Licensed', 'official_video', 'Stream'],\n",
       "      dtype='object')"
      ]
     },
     "execution_count": 6,
     "metadata": {},
     "output_type": "execute_result"
    }
   ],
   "source": [
    "df.columns"
   ]
  },
  {
   "cell_type": "code",
   "execution_count": 7,
   "metadata": {},
   "outputs": [],
   "source": [
    "df.rename(columns={'Unnamed: 0' : 'Id'}, inplace= True)"
   ]
  },
  {
   "attachments": {},
   "cell_type": "markdown",
   "metadata": {
    "collapsed": false
   },
   "source": [
    "### Вопросы:"
   ]
  },
  {
   "attachments": {},
   "cell_type": "markdown",
   "metadata": {
    "collapsed": false
   },
   "source": [
    "#### 1. Какая песня является наиболее транслируемой в датасете (признак Stream)?"
   ]
  },
  {
   "cell_type": "code",
   "execution_count": 11,
   "metadata": {
    "collapsed": false
   },
   "outputs": [
    {
     "name": "stdout",
     "output_type": "stream",
     "text": [
      "The Artist: The Weeknd ,the name of song: Blinding Lights ,the Stream value is: 3386520288.0\n"
     ]
    }
   ],
   "source": [
    "def max_id(data,column_name):\n",
    "    \"\"\"\n",
    "    This function takes a dataframe \n",
    "    and a column name as arguments and \n",
    "    returns the index of the maximum value\n",
    "    for that column.\n",
    "    \"\"\"\n",
    "    return data.index[data[column_name] == data[column_name].max()]\n",
    "\n",
    "def output_by_id(index,value_name):\n",
    "     for i in index:\n",
    "        print(\"The Artist: {} ,the name of song: {} ,the {} value is: {}\".format(df.loc[i,'Artist'],df.loc[i, 'Track'],value_name,df.loc[i,value_name]))\n",
    "\n",
    "\n",
    "\"\"\"\n",
    "As we can see, the most streamed song on Spotify\n",
    "is “Blinding Lights” from the album “After Hours” \n",
    "by “The Weeknd”. This song has been listened to\n",
    "3.386.520.288 times.”\n",
    "\"\"\"\n",
    "\n",
    "output_by_id(max_id(df,'Stream'),'Stream')\n"
   ]
  },
  {
   "attachments": {},
   "cell_type": "markdown",
   "metadata": {
    "collapsed": false
   },
   "source": [
    "#### 2. У какого исполнителя больше всего просмотров на YouTube?"
   ]
  },
  {
   "cell_type": "code",
   "execution_count": 13,
   "metadata": {
    "collapsed": false
   },
   "outputs": [
    {
     "name": "stdout",
     "output_type": "stream",
     "text": [
      "Ed Sheeran has the most number. Number of Views: 15460207769.0\n"
     ]
    }
   ],
   "source": [
    "def max_sum(data,group_column,sum_column):\n",
    "    \"\"\"\n",
    "    This function takes a dataframe, \n",
    "    a group_column and a sum_column as arguments. \n",
    "    It groups the data by the group_column \n",
    "    and calculates the sum of the values in the sum_column \n",
    "    for each group. It returns the maximum\n",
    "    sum value and the corresponding value id.\n",
    "    \"\"\"\n",
    "    sum_res= data.groupby(group_column)[sum_column].sum()\n",
    "    max_res = sum_res.idxmax()\n",
    "    return max_res,sum_res[max_res]\n",
    "\n",
    "\n",
    "def output_max(result, column_name):\n",
    "    \"\"\"\n",
    "    Output the result of max_sum. The result\n",
    "    contains the maximum value and the id of\n",
    "    this value. column_name is the name of the\n",
    "    column with the maximum value.”\n",
    "    \"\"\"\n",
    "    print(\"{} has the most number. Number of {}: {}\".format(result[0],column_name,result[1]))\n",
    "    \n",
    "    \n",
    "\"\"\"\n",
    "Ed Sheeran has the highest \n",
    "number of views, with\n",
    "15.460.207.769 on YouTube.\n",
    "\"\"\"\n",
    "\n",
    "output_max(max_sum(df,'Artist','Views'),'Views')"
   ]
  },
  {
   "attachments": {},
   "cell_type": "markdown",
   "metadata": {
    "collapsed": false
   },
   "source": [
    "#### 3. Какова средняя продолжительность всех песен в минутах?"
   ]
  },
  {
   "cell_type": "code",
   "execution_count": 14,
   "metadata": {
    "collapsed": false
   },
   "outputs": [
    {
     "name": "stdout",
     "output_type": "stream",
     "text": [
      "Mean duration of all songs in minutes is 3.7452929836841085\n"
     ]
    }
   ],
   "source": [
    "def mean_duration(data):\n",
    "    \"\"\"\n",
    "    This function get DataFrame\n",
    "    calculates the mean duration\n",
    "    in minutes\n",
    "    \"\"\"\n",
    "    return data['Duration_ms'].mean()/60000\n",
    "\n",
    "\"\"\"\n",
    "As we can see, mean duration of all songs is 3.75 min\n",
    "\"\"\"\n",
    "\n",
    "print(\"Mean duration of all songs in minutes is {}\".format(mean_duration(df)))"
   ]
  },
  {
   "attachments": {},
   "cell_type": "markdown",
   "metadata": {
    "collapsed": false
   },
   "source": [
    "#### 4. Какая нота (Key) чаще всего используется в песнях?"
   ]
  },
  {
   "cell_type": "code",
   "execution_count": 15,
   "metadata": {
    "collapsed": false
   },
   "outputs": [
    {
     "name": "stdout",
     "output_type": "stream",
     "text": [
      "0.0 has the most number. Number of Key: 2305\n"
     ]
    }
   ],
   "source": [
    "def max_count(data,group_column,count_column):\n",
    "    \"\"\"\n",
    "    This function takes a DataFrame and \n",
    "    a group_column as arguments. It calculates \n",
    "    the count of each group in the group_column and \n",
    "    returns the value of the group_column and\n",
    "    the maximum count of the count_column.\n",
    "    \"\"\"\n",
    "    number = data.groupby(group_column)[count_column].count()\n",
    "    max_count = number.idxmax()\n",
    "    return max_count, number[max_count]\n",
    "\n",
    "\"\"\"\n",
    "The most popular key\n",
    "with the highest number\n",
    "of occurrences is 'C', with \n",
    "a value of 0 and a count of 2305.”\n",
    "\"\"\"\n",
    "\n",
    "output_max(max_count(df,'Key','Key'),'Key')"
   ]
  },
  {
   "attachments": {},
   "cell_type": "markdown",
   "metadata": {
    "collapsed": false
   },
   "source": [
    "#### 5. Какая самая популярная песня на YouTube?"
   ]
  },
  {
   "cell_type": "code",
   "execution_count": 16,
   "metadata": {
    "collapsed": false
   },
   "outputs": [
    {
     "name": "stdout",
     "output_type": "stream",
     "text": [
      "The Artist: Luis Fonsi ,the name of song: Despacito ,the Views value is: 8079649362.0\n"
     ]
    }
   ],
   "source": [
    "\"\"\"\n",
    "As we can see, the most popular song \n",
    "on YouTube is “Despacito” from the album\n",
    "“VIDA” by “Luis Fonsi”. This song has been\n",
    "viewed 8.079.649.362 times and liked by \n",
    "50.788.652 people.\n",
    "\"\"\"\n",
    "\n",
    "output_by_id(max_id(df,'Views'),'Views')"
   ]
  },
  {
   "attachments": {},
   "cell_type": "markdown",
   "metadata": {
    "collapsed": false
   },
   "source": [
    "#### 6. У какой песни самый высокий балл за танцевальность (danceability )?"
   ]
  },
  {
   "cell_type": "code",
   "execution_count": 17,
   "metadata": {
    "collapsed": false
   },
   "outputs": [
    {
     "name": "stdout",
     "output_type": "stream",
     "text": [
      "The Artist: Timbaland ,the name of song: Give It To Me ,the Danceability value is: 0.975\n",
      "The Artist: BIA ,the name of song: CAN'T TOUCH THIS ,the Danceability value is: 0.975\n",
      "The Artist: Dave ,the name of song: Funky Friday ,the Danceability value is: 0.975\n"
     ]
    }
   ],
   "source": [
    "\"\"\"\n",
    "In this situation, there are three songs\n",
    "with the highest danceability value.\n",
    "They are: Give It To Me by Timbaland, \n",
    "CAN'T TOUCH THIS by BIA, and Funky Friday by Dave. \n",
    "With Dancebility value 0.975.\n",
    "\"\"\"\n",
    "\n",
    "output_by_id(max_id(df,'Danceability'),'Danceability')"
   ]
  },
  {
   "attachments": {},
   "cell_type": "markdown",
   "metadata": {
    "collapsed": false
   },
   "source": [
    "#### 7. У какой песни самый высокий показатель энергии (energy score)?"
   ]
  },
  {
   "cell_type": "code",
   "execution_count": 18,
   "metadata": {
    "collapsed": false
   },
   "outputs": [
    {
     "name": "stdout",
     "output_type": "stream",
     "text": [
      "The Artist: Rain Fruits Sounds ,the name of song: Rain and Thunderstorm, Pt. 3 ,the Energy value is: 1.0\n",
      "The Artist: Rain Fruits Sounds ,the name of song: Rain and Thunderstorm, Pt. 4 ,the Energy value is: 1.0\n",
      "The Artist: Rain Fruits Sounds ,the name of song: Rain and Thunderstorm, Pt. 7 ,the Energy value is: 1.0\n",
      "The Artist: Rain Fruits Sounds ,the name of song: Rain and Thunderstorm, Pt. 6 ,the Energy value is: 1.0\n",
      "The Artist: Rain Fruits Sounds ,the name of song: Rain and Thunderstorm, Pt. 33 ,the Energy value is: 1.0\n",
      "The Artist: Sleepy Penguin ,the name of song: Gentle Piano Melodies ,the Energy value is: 1.0\n"
     ]
    }
   ],
   "source": [
    "\"\"\"\n",
    "There are six songs with the highest \n",
    "energy score value. They are: five songs \n",
    "titled “Rain and Thunderstorm” with \n",
    "different parts such as 3, 4, 7, 6, and 33,\n",
    "and “Gentle Piano Melodies”.\n",
    "These tracks sound fast, loud and noisy.\n",
    "\"\"\"\n",
    "\n",
    "output_by_id(max_id(df,'Energy'),'Energy')"
   ]
  },
  {
   "attachments": {},
   "cell_type": "markdown",
   "metadata": {
    "collapsed": false
   },
   "source": [
    "#### 8. Какая песня имеет наивысший балл valence (valence score)?"
   ]
  },
  {
   "cell_type": "code",
   "execution_count": 19,
   "metadata": {
    "collapsed": false
   },
   "outputs": [
    {
     "name": "stdout",
     "output_type": "stream",
     "text": [
      "The Artist: Toby Fox ,the name of song: Spider Dance ,the Valence value is: 0.993\n"
     ]
    }
   ],
   "source": [
    "\"\"\"\n",
    "Spider Dance by Toby Fox has\n",
    "the highest valence score of 0.993 points.\n",
    "This song sounds happy, cheerful and positive.\n",
    "\"\"\"\n",
    "\n",
    "output_by_id(max_id(df,'Valence'),'Valence')"
   ]
  },
  {
   "attachments": {},
   "cell_type": "markdown",
   "metadata": {
    "collapsed": false
   },
   "source": [
    "#### 9. Будут ли песни с более высокой «valence» (музыкальной позитивностью) более популярны как на Spotify, так и на YouTube? Чтобы ответить на этот вопрос, подсчитайте среднюю оценку «valence» для песен в верхнем квартиле «Streams» и «Views» и сравните ее с общей средней «valence»."
   ]
  },
  {
   "cell_type": "code",
   "execution_count": 20,
   "metadata": {},
   "outputs": [
    {
     "name": "stdout",
     "output_type": "stream",
     "text": [
      "The Stream in top quantile valence value is 0.5240532929493545 ,the Views valence value is 0.5475266442820462 , The Valence value - 0.5298533240007725\n"
     ]
    }
   ],
   "source": [
    "def quantile_mean(sort_column,mean_column,quantile_value):\n",
    "    \"\"\"\n",
    "    This function takes 3 variables as arguments.\n",
    "    It first sorts them by sort_column\n",
    "    ,then calculates the mean by mean_column.\n",
    "    quantile_value shows the sample condition.\n",
    "    \"\"\"\n",
    "    \n",
    "    return df[df[sort_column] >= df[sort_column].quantile(quantile_value)][mean_column].mean()\n",
    "\n",
    "\"\"\"\n",
    "As we can see, the valence does not affect \n",
    "the popularity of the song. In the top quartile, \n",
    "the mean value is similar to the overall mean value.\n",
    "\"\"\"\n",
    "\n",
    "print(\"The Stream in top quantile valence value is {} ,\"\n",
    "    \"the Views valence value is {} , The Valence value - {}\".format(quantile_mean('Stream','Valence',0.75), quantile_mean('Views','Valence',0.75),df['Valence'].mean()))"
   ]
  },
  {
   "attachments": {},
   "cell_type": "markdown",
   "metadata": {
    "collapsed": false
   },
   "source": [
    "#### 10. Какой канал на YouTube имеет наибольшее количество просмотров?"
   ]
  },
  {
   "cell_type": "code",
   "execution_count": 21,
   "metadata": {
    "collapsed": false
   },
   "outputs": [
    {
     "name": "stdout",
     "output_type": "stream",
     "text": [
      "T-Series has the most number. Number of Views: 47961585483.0\n"
     ]
    }
   ],
   "source": [
    "\"\"\"\n",
    "T-Series has the highest number \n",
    "of views on YouTube, with 147.961.585.483.\n",
    "\"\"\"\n",
    "output_max(max_sum(df,'Channel','Views'),'Views')"
   ]
  },
  {
   "attachments": {},
   "cell_type": "markdown",
   "metadata": {
    "collapsed": false
   },
   "source": [
    "#### 11. У песни какого исполнителя больше всего комментариев на YouTube?"
   ]
  },
  {
   "cell_type": "code",
   "execution_count": 22,
   "metadata": {
    "collapsed": false
   },
   "outputs": [
    {
     "name": "stdout",
     "output_type": "stream",
     "text": [
      "The Artist: BTS ,the name of song: Dynamite ,the Comments value is: 16083138.0\n"
     ]
    }
   ],
   "source": [
    "\"\"\"\n",
    "Dynamite by BTS has the highest\n",
    "number of comments, with 16.083.138.\n",
    "\"\"\"\n",
    "\n",
    "output_by_id(max_id(df,'Comments'),'Comments')"
   ]
  },
  {
   "attachments": {},
   "cell_type": "markdown",
   "metadata": {
    "collapsed": false
   },
   "source": [
    "#### 12. Какой самый распространенный темп (tempo) песен?"
   ]
  },
  {
   "cell_type": "code",
   "execution_count": 25,
   "metadata": {
    "collapsed": false
   },
   "outputs": [
    {
     "name": "stdout",
     "output_type": "stream",
     "text": [
      "77.986 has the most number. Number of Tempo: 24\n"
     ]
    }
   ],
   "source": [
    "\"\"\"\n",
    "The most common tempo with the highest \n",
    "number of occurrences is 77.986, with 24\n",
    "songs having this tempo.\n",
    "\"\"\"\n",
    "output_max(max_count(df,'Tempo','Tempo'),'Tempo')"
   ]
  },
  {
   "attachments": {},
   "cell_type": "markdown",
   "metadata": {
    "collapsed": false
   },
   "source": [
    "#### 13. Какая песня имеет самый высокий показатель по speechiness?"
   ]
  },
  {
   "cell_type": "code",
   "execution_count": 26,
   "metadata": {
    "collapsed": false
   },
   "outputs": [
    {
     "name": "stdout",
     "output_type": "stream",
     "text": [
      "The Artist: Sir Arthur Conan Doyle ,the name of song: Teil 7 - Sherlock Holmes und der blinde Bettler - Die neuen Abenteuer, Folge 50 ,the Speechiness value is: 0.964\n"
     ]
    }
   ],
   "source": [
    "\"\"\"\n",
    "Teil 7 - Sherlock Holmes und der blinde \n",
    "Bettler - Die neuen Abenteuer, Folge 50 has \n",
    "the highest speechiness score of 0.964. This means\n",
    "that it is an audio book, poetry or talk show.\n",
    "\"\"\"\n",
    "output_by_id(max_id(df,'Speechiness'),'Speechiness')"
   ]
  },
  {
   "attachments": {},
   "cell_type": "markdown",
   "metadata": {
    "collapsed": false
   },
   "source": [
    "#### 14. Какая самая громкая песня в наборе данных?"
   ]
  },
  {
   "cell_type": "code",
   "execution_count": 27,
   "metadata": {
    "collapsed": false
   },
   "outputs": [
    {
     "name": "stdout",
     "output_type": "stream",
     "text": [
      "The Artist: Sub Focus ,the name of song: Siren ,the Loudness value is: 0.92\n"
     ]
    }
   ],
   "source": [
    "\"\"\"\n",
    "The loudest song is Siren by Sub Focus,\n",
    "with a loudness value of 0.92 dB. \n",
    "The normal value for Spotify is -14 dB.\n",
    "\"\"\"\n",
    "output_by_id(max_id(df,'Loudness'),'Loudness')"
   ]
  },
  {
   "attachments": {},
   "cell_type": "markdown",
   "metadata": {
    "collapsed": false
   },
   "source": [
    "#### 15. У какого артиста самый высокий средний балл danceability?"
   ]
  },
  {
   "cell_type": "code",
   "execution_count": 28,
   "metadata": {
    "collapsed": false
   },
   "outputs": [
    {
     "name": "stdout",
     "output_type": "stream",
     "text": [
      "Saweetie has the most mean Danceability. Value of Danceability: 0.8858\n"
     ]
    }
   ],
   "source": [
    "def mean_danceability(data):\n",
    "    \"\"\"\n",
    "    This function takes a DataFrame as an argument. \n",
    "    It calculates the mean of danceability \n",
    "    for each author and returns the name of the\n",
    "    author and the maximum mean value of danceability.\n",
    "    \"\"\"\n",
    "    \n",
    "    view_sum = data.groupby('Artist')['Danceability'].mean()\n",
    "    max_author = view_sum.idxmax()\n",
    "    return max_author,view_sum[max_author]\n",
    "\n",
    "\n",
    "\"\"\"\n",
    "Saweetie has the most danceable track, \n",
    "with a mean value of danceability of 0.8858.\n",
    "\"\"\"\n",
    "\n",
    "print(\"{} has the most mean Danceability. Value of Danceability: {}\".format(mean_danceability(df)[0],mean_danceability(df)[1]))"
   ]
  },
  {
   "attachments": {},
   "cell_type": "markdown",
   "metadata": {
    "collapsed": false
   },
   "source": [
    "#### 16. Как средний показатель «speechiness» песен зависит от «Album_type»? Песни, выпущенные как синглы, чаще содержат больше слов согласно анализу?"
   ]
  },
  {
   "cell_type": "code",
   "execution_count": 29,
   "metadata": {
    "collapsed": false
   },
   "outputs": [
    {
     "name": "stdout",
     "output_type": "stream",
     "text": [
      "             Speechiness\n",
      "Album_type              \n",
      "album           0.094900\n",
      "compilation     0.078867\n",
      "single          0.103867\n",
      "The overall mean value: 0.09645600502027418 \n"
     ]
    }
   ],
   "source": [
    "\"\"\"\n",
    "The average speechiness value in a single \n",
    "song is higher than the average value in\n",
    "an album or a compilation. Also, this average\n",
    "value is higher than the overall average speechiness value.\n",
    "\"\"\"\n",
    "\n",
    "print(pd.pivot_table(df,index = 'Album_type', values= 'Speechiness',aggfunc=np.mean))\n",
    "print(\"The overall mean value: {} \".format(df['Speechiness'].mean()))"
   ]
  },
  {
   "attachments": {},
   "cell_type": "markdown",
   "metadata": {
    "collapsed": false
   },
   "source": [
    "#### 17. Каково среднее количество прослушиваний песен, которые входят в топ 10% лучших по метрике танцевальности?"
   ]
  },
  {
   "cell_type": "code",
   "execution_count": 30,
   "metadata": {},
   "outputs": [
    {
     "name": "stdout",
     "output_type": "stream",
     "text": [
      "Mean  of stream value in top 10% for danceability: 151930059.92221135\n",
      "Mean of overral stream value: 135942190.38298082\n"
     ]
    }
   ],
   "source": [
    "\"\"\"\n",
    "The average number of streams for a track\n",
    "in the top 10% for danceability is 151,930,059. \n",
    "This is higher than the average number of streams \n",
    "for all tracks.\n",
    "\"\"\"\n",
    "\n",
    "print(\"Mean  of stream value in top 10% for danceability: {}\".format(quantile_mean('Danceability','Stream',0.9)))\n",
    "print(\"Mean of overral stream value: {}\".format(df['Stream'].mean()))"
   ]
  },
  {
   "attachments": {},
   "cell_type": "markdown",
   "metadata": {
    "collapsed": false
   },
   "source": [
    "#### 18. Для песен, которые входят в топ 10% лучших с точки зрения «danceability» метрики, как соотносится их средний показатель «tempo» со средним показателем «tempo» всех песен?"
   ]
  },
  {
   "cell_type": "code",
   "execution_count": 31,
   "metadata": {
    "collapsed": false
   },
   "outputs": [
    {
     "name": "stdout",
     "output_type": "stream",
     "text": [
      "Mean tempo value in top 10% for danceability: 115.07538602409639\n",
      "Overall mean tempo value: 120.63833993048851\n"
     ]
    }
   ],
   "source": [
    "\"\"\"\n",
    "The average tempo value for the top 10% \n",
    "danceability is slightly lower than the\n",
    "overall average tempo.\n",
    "\"\"\"\n",
    "\n",
    "print(\"Mean tempo value in top 10% for danceability: {}\".format(quantile_mean('Danceability','Tempo',0.9)))\n",
    "print(\"Overall mean tempo value: {}\".format(df['Tempo'].mean()))"
   ]
  },
  {
   "attachments": {},
   "cell_type": "markdown",
   "metadata": {
    "collapsed": false
   },
   "source": [
    "#### 19. Какова корреляция между «valence» метрикой песни и ее популярностью на YouTube (по показателю «Views») и Spotify (по показателю «Stream»)? Счастливые песни более популярны? Valency отвечает за жизнерадостность песни."
   ]
  },
  {
   "cell_type": "code",
   "execution_count": 32,
   "metadata": {
    "collapsed": false
   },
   "outputs": [
    {
     "name": "stdout",
     "output_type": "stream",
     "text": [
      "Correlation between Valence and Views: 0.03542303191912804\n",
      "Correlation betweenn Valence and Stream: -0.012109291352001578\n"
     ]
    }
   ],
   "source": [
    "\"\"\"\n",
    "From the results, the correlation values \n",
    "are close to 0. This means that the valence \n",
    "column does not depend on the views and streams columns.\n",
    "\"\"\"\n",
    "\n",
    "print(\"Correlation between Valence and Views: {}\\n\"\n",
    "      \"Correlation betweenn Valence and Stream: {}\".format(df['Valence'].corr(df['Views']), df['Valence'].corr(df['Stream'])))"
   ]
  },
  {
   "attachments": {},
   "cell_type": "markdown",
   "metadata": {
    "collapsed": false
   },
   "source": [
    "#### 20. Какова средняя громкость песен, которые входят в топ 10% лучших по энергетике (Energy)?"
   ]
  },
  {
   "cell_type": "code",
   "execution_count": 33,
   "metadata": {
    "collapsed": false
   },
   "outputs": [
    {
     "name": "stdout",
     "output_type": "stream",
     "text": [
      "Mean Loudness value in top 10% for Energy: -4.627998091603053\n"
     ]
    }
   ],
   "source": [
    "\"\"\"\n",
    "The average loudness value for the top 10% \n",
    "for energy is -4.627 dB. This is higher than \n",
    "the normal value on Spotify and this means\n",
    "that energetic songs are louder than others. \n",
    "\"\"\"\n",
    "\n",
    "print(\"Mean Loudness value in top 10% for Energy: {}\".format(quantile_mean('Energy','Loudness',0.9)))"
   ]
  },
  {
   "attachments": {},
   "cell_type": "markdown",
   "metadata": {
    "collapsed": false
   },
   "source": [
    "#### 21. У какого исполнителя больше всего песен, которые входят в топ-10% как по просмотрам на YouTube, так и по стримам Spotify?"
   ]
  },
  {
   "cell_type": "code",
   "execution_count": 35,
   "metadata": {
    "collapsed": false
   },
   "outputs": [
    {
     "name": "stdout",
     "output_type": "stream",
     "text": [
      "The most Artist is Calvin Harris. The number of occurrences his track in top 10% is 9\n"
     ]
    }
   ],
   "source": [
    "\n",
    "df1 = df[(df['Views']>=df['Views'].quantile(0.9)) & (df['Stream']>= df['Stream'].quantile(0.9))]\n",
    "\n",
    "\"\"\"\n",
    "Calvin Harris has the most tracks\n",
    "that appear in both the top 10% on \n",
    "Spotify and YouTube. The count is 9.\n",
    "\"\"\"\n",
    "\n",
    "print(\"The most Artist is {}. The number of occurrences his track in top 10% is {}\".format(max_count(df1,'Artist','Track')[0],max_count(df1,'Artist','Track')[1]))"
   ]
  },
  {
   "attachments": {},
   "cell_type": "markdown",
   "metadata": {
    "collapsed": false
   },
   "source": [
    "#### 22. Какова корреляция между «energy» песни и ее «loudness»?"
   ]
  },
  {
   "cell_type": "code",
   "execution_count": 36,
   "metadata": {
    "collapsed": false
   },
   "outputs": [
    {
     "name": "stdout",
     "output_type": "stream",
     "text": [
      "0.7448445555528459\n"
     ]
    }
   ],
   "source": [
    "\"\"\"\n",
    "Energy has a positive correlation \n",
    "with loudness. This means that the\n",
    "energy column depends on the loudness \n",
    "column positively.\n",
    "\"\"\"\n",
    "\n",
    "print(df['Energy'].corr(df['Loudness']))"
   ]
  },
  {
   "attachments": {},
   "cell_type": "markdown",
   "metadata": {
    "collapsed": false
   },
   "source": [
    "#### 23. Каково среднее количество лайков на YouTube для песен, которые находятся в верхнем квартиле (25%) и как это соотносится с общим средним показателем?"
   ]
  },
  {
   "cell_type": "code",
   "execution_count": 37,
   "metadata": {
    "collapsed": false
   },
   "outputs": [
    {
     "name": "stdout",
     "output_type": "stream",
     "text": [
      "Mean Likes value in top 25% for Likes: 2238671.101008104\n",
      "Mean overral Likes value: 663341.0613074292\n"
     ]
    }
   ],
   "source": [
    "\"\"\"\n",
    "From the result, the most popular \n",
    "songs have more likes than the average of all songs.\n",
    "\"\"\"\n",
    "\n",
    "print(\"Mean Likes value in top 25% for Likes: {}\".format(quantile_mean('Views','Likes',0.75)))\n",
    "print(\"Mean overral Likes value: {}\".format(df['Likes'].mean()))"
   ]
  },
  {
   "attachments": {},
   "cell_type": "markdown",
   "metadata": {
    "collapsed": false
   },
   "source": [
    "#### 24. Есть ли существенная разница в средней «valence» метрикой для песен, выпущенных как синглы, по сравнению с песнями, выпущенными в виде альбома?"
   ]
  },
  {
   "cell_type": "code",
   "execution_count": 38,
   "metadata": {
    "collapsed": false
   },
   "outputs": [
    {
     "name": "stdout",
     "output_type": "stream",
     "text": [
      "              Valence\n",
      "Album_type           \n",
      "album        0.529771\n",
      "compilation  0.529679\n",
      "single       0.530126\n",
      "The overall mean value: 0.5298533240007725 \n"
     ]
    }
   ],
   "source": [
    "\"\"\"\n",
    "Valence is the same for single tracks\n",
    "and albums. There is no significant\n",
    "difference between them.\n",
    "\"\"\"\n",
    "\n",
    "print(pd.pivot_table(df,index = 'Album_type', values= 'Valence',aggfunc=np.mean))\n",
    "print(\"The overall mean value: {} \".format(df['Valence'].mean()))"
   ]
  },
  {
   "attachments": {},
   "cell_type": "markdown",
   "metadata": {
    "collapsed": false
   },
   "source": [
    "#### 25. Каково среднее количество «комментариев» на YouTube для песен с показателем «speechiness» выше 0,66 (что указывает на большое количество произнесенных слов) и как это соотносится с общим средним показателем?"
   ]
  },
  {
   "cell_type": "code",
   "execution_count": 39,
   "metadata": {
    "collapsed": false
   },
   "outputs": [
    {
     "name": "stdout",
     "output_type": "stream",
     "text": [
      "Mean Comments value for Speechiness >= 0.66: 334.60550458715596\n",
      "Overral mean Comments value: 27518.993696957667\n"
     ]
    }
   ],
   "source": [
    "\"\"\"\n",
    "The overall average number of comments is higher\n",
    "than the average number for speechiness >= 0.66. \n",
    "This means that people only listen to tracks consisting \n",
    "of words entirely and don't comment.\n",
    "\"\"\"\n",
    "print(\"Mean Comments value for Speechiness >= 0.66: {}\".format(df[df['Speechiness'] >= 0.66]['Comments'].mean()))\n",
    "print(\"Overral mean Comments value: {}\".format(df['Comments'].mean()))"
   ]
  }
 ],
 "metadata": {
  "kernelspec": {
   "display_name": "Python 3",
   "language": "python",
   "name": "python3"
  },
  "language_info": {
   "codemirror_mode": {
    "name": "ipython",
    "version": 3
   },
   "file_extension": ".py",
   "mimetype": "text/x-python",
   "name": "python",
   "nbconvert_exporter": "python",
   "pygments_lexer": "ipython3",
   "version": "3.10.6"
  }
 },
 "nbformat": 4,
 "nbformat_minor": 0
}
